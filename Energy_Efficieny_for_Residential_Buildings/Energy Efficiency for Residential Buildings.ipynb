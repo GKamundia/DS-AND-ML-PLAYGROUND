{
 "cells": [
  {
   "cell_type": "markdown",
   "id": "f97a3212",
   "metadata": {},
   "source": [
    "## Importing libraries"
   ]
  },
  {
   "cell_type": "code",
   "execution_count": 1,
   "id": "e3c5c59f",
   "metadata": {},
   "outputs": [],
   "source": [
    "import numpy as np\n",
    "import pandas as pd\n",
    "import matplotlib.pyplot as plt\n",
    "import seaborn as sns\n",
    "import warnings\n",
    "warnings.filterwarnings('ignore')"
   ]
  },
  {
   "cell_type": "markdown",
   "id": "6d0c43a6",
   "metadata": {},
   "source": [
    "## Loading csv file"
   ]
  },
  {
   "cell_type": "code",
   "execution_count": 2,
   "id": "77ba45a1",
   "metadata": {},
   "outputs": [],
   "source": [
    "raw_data = pd.read_csv(\"ENB2012_data.csv\")"
   ]
  },
  {
   "cell_type": "markdown",
   "id": "72f39523",
   "metadata": {},
   "source": [
    "## Data exploration and Preprocessing"
   ]
  },
  {
   "cell_type": "code",
   "execution_count": 3,
   "id": "ea720e71",
   "metadata": {},
   "outputs": [
    {
     "data": {
      "text/html": [
       "<div>\n",
       "<style scoped>\n",
       "    .dataframe tbody tr th:only-of-type {\n",
       "        vertical-align: middle;\n",
       "    }\n",
       "\n",
       "    .dataframe tbody tr th {\n",
       "        vertical-align: top;\n",
       "    }\n",
       "\n",
       "    .dataframe thead th {\n",
       "        text-align: right;\n",
       "    }\n",
       "</style>\n",
       "<table border=\"1\" class=\"dataframe\">\n",
       "  <thead>\n",
       "    <tr style=\"text-align: right;\">\n",
       "      <th></th>\n",
       "      <th>Relative_Compactness</th>\n",
       "      <th>Surface_Area</th>\n",
       "      <th>Wall_Area</th>\n",
       "      <th>Roof_Area</th>\n",
       "      <th>Overall_Height</th>\n",
       "      <th>Orientation</th>\n",
       "      <th>Glazing_Area</th>\n",
       "      <th>Glazing_Area_Distribution</th>\n",
       "      <th>Heating_Load</th>\n",
       "      <th>Cooling_Load</th>\n",
       "    </tr>\n",
       "  </thead>\n",
       "  <tbody>\n",
       "    <tr>\n",
       "      <th>count</th>\n",
       "      <td>768.000000</td>\n",
       "      <td>768.000000</td>\n",
       "      <td>768.000000</td>\n",
       "      <td>768.000000</td>\n",
       "      <td>768.00000</td>\n",
       "      <td>768.000000</td>\n",
       "      <td>768.000000</td>\n",
       "      <td>768.00000</td>\n",
       "      <td>768.000000</td>\n",
       "      <td>768.000000</td>\n",
       "    </tr>\n",
       "    <tr>\n",
       "      <th>mean</th>\n",
       "      <td>0.764167</td>\n",
       "      <td>671.708333</td>\n",
       "      <td>318.500000</td>\n",
       "      <td>176.604167</td>\n",
       "      <td>5.25000</td>\n",
       "      <td>3.500000</td>\n",
       "      <td>0.234375</td>\n",
       "      <td>2.81250</td>\n",
       "      <td>22.307201</td>\n",
       "      <td>24.587760</td>\n",
       "    </tr>\n",
       "    <tr>\n",
       "      <th>std</th>\n",
       "      <td>0.105777</td>\n",
       "      <td>88.086116</td>\n",
       "      <td>43.626481</td>\n",
       "      <td>45.165950</td>\n",
       "      <td>1.75114</td>\n",
       "      <td>1.118763</td>\n",
       "      <td>0.133221</td>\n",
       "      <td>1.55096</td>\n",
       "      <td>10.090196</td>\n",
       "      <td>9.513306</td>\n",
       "    </tr>\n",
       "    <tr>\n",
       "      <th>min</th>\n",
       "      <td>0.620000</td>\n",
       "      <td>514.500000</td>\n",
       "      <td>245.000000</td>\n",
       "      <td>110.250000</td>\n",
       "      <td>3.50000</td>\n",
       "      <td>2.000000</td>\n",
       "      <td>0.000000</td>\n",
       "      <td>0.00000</td>\n",
       "      <td>6.010000</td>\n",
       "      <td>10.900000</td>\n",
       "    </tr>\n",
       "    <tr>\n",
       "      <th>25%</th>\n",
       "      <td>0.682500</td>\n",
       "      <td>606.375000</td>\n",
       "      <td>294.000000</td>\n",
       "      <td>140.875000</td>\n",
       "      <td>3.50000</td>\n",
       "      <td>2.750000</td>\n",
       "      <td>0.100000</td>\n",
       "      <td>1.75000</td>\n",
       "      <td>12.992500</td>\n",
       "      <td>15.620000</td>\n",
       "    </tr>\n",
       "    <tr>\n",
       "      <th>50%</th>\n",
       "      <td>0.750000</td>\n",
       "      <td>673.750000</td>\n",
       "      <td>318.500000</td>\n",
       "      <td>183.750000</td>\n",
       "      <td>5.25000</td>\n",
       "      <td>3.500000</td>\n",
       "      <td>0.250000</td>\n",
       "      <td>3.00000</td>\n",
       "      <td>18.950000</td>\n",
       "      <td>22.080000</td>\n",
       "    </tr>\n",
       "    <tr>\n",
       "      <th>75%</th>\n",
       "      <td>0.830000</td>\n",
       "      <td>741.125000</td>\n",
       "      <td>343.000000</td>\n",
       "      <td>220.500000</td>\n",
       "      <td>7.00000</td>\n",
       "      <td>4.250000</td>\n",
       "      <td>0.400000</td>\n",
       "      <td>4.00000</td>\n",
       "      <td>31.667500</td>\n",
       "      <td>33.132500</td>\n",
       "    </tr>\n",
       "    <tr>\n",
       "      <th>max</th>\n",
       "      <td>0.980000</td>\n",
       "      <td>808.500000</td>\n",
       "      <td>416.500000</td>\n",
       "      <td>220.500000</td>\n",
       "      <td>7.00000</td>\n",
       "      <td>5.000000</td>\n",
       "      <td>0.400000</td>\n",
       "      <td>5.00000</td>\n",
       "      <td>43.100000</td>\n",
       "      <td>48.030000</td>\n",
       "    </tr>\n",
       "  </tbody>\n",
       "</table>\n",
       "</div>"
      ],
      "text/plain": [
       "       Relative_Compactness  Surface_Area   Wall_Area   Roof_Area  \\\n",
       "count            768.000000    768.000000  768.000000  768.000000   \n",
       "mean               0.764167    671.708333  318.500000  176.604167   \n",
       "std                0.105777     88.086116   43.626481   45.165950   \n",
       "min                0.620000    514.500000  245.000000  110.250000   \n",
       "25%                0.682500    606.375000  294.000000  140.875000   \n",
       "50%                0.750000    673.750000  318.500000  183.750000   \n",
       "75%                0.830000    741.125000  343.000000  220.500000   \n",
       "max                0.980000    808.500000  416.500000  220.500000   \n",
       "\n",
       "       Overall_Height  Orientation  Glazing_Area  Glazing_Area_Distribution  \\\n",
       "count       768.00000   768.000000    768.000000                  768.00000   \n",
       "mean          5.25000     3.500000      0.234375                    2.81250   \n",
       "std           1.75114     1.118763      0.133221                    1.55096   \n",
       "min           3.50000     2.000000      0.000000                    0.00000   \n",
       "25%           3.50000     2.750000      0.100000                    1.75000   \n",
       "50%           5.25000     3.500000      0.250000                    3.00000   \n",
       "75%           7.00000     4.250000      0.400000                    4.00000   \n",
       "max           7.00000     5.000000      0.400000                    5.00000   \n",
       "\n",
       "       Heating_Load  Cooling_Load  \n",
       "count    768.000000    768.000000  \n",
       "mean      22.307201     24.587760  \n",
       "std       10.090196      9.513306  \n",
       "min        6.010000     10.900000  \n",
       "25%       12.992500     15.620000  \n",
       "50%       18.950000     22.080000  \n",
       "75%       31.667500     33.132500  \n",
       "max       43.100000     48.030000  "
      ]
     },
     "execution_count": 3,
     "metadata": {},
     "output_type": "execute_result"
    }
   ],
   "source": [
    "raw_data.describe(include=\"all\")"
   ]
  },
  {
   "cell_type": "markdown",
   "id": "e6aa4b0f",
   "metadata": {},
   "source": [
    "Dataset does not have any missing values. A total of 768 records. "
   ]
  },
  {
   "cell_type": "code",
   "execution_count": 4,
   "id": "278e72fd",
   "metadata": {},
   "outputs": [
    {
     "data": {
      "text/html": [
       "<div>\n",
       "<style scoped>\n",
       "    .dataframe tbody tr th:only-of-type {\n",
       "        vertical-align: middle;\n",
       "    }\n",
       "\n",
       "    .dataframe tbody tr th {\n",
       "        vertical-align: top;\n",
       "    }\n",
       "\n",
       "    .dataframe thead th {\n",
       "        text-align: right;\n",
       "    }\n",
       "</style>\n",
       "<table border=\"1\" class=\"dataframe\">\n",
       "  <thead>\n",
       "    <tr style=\"text-align: right;\">\n",
       "      <th></th>\n",
       "      <th>Relative_Compactness</th>\n",
       "      <th>Surface_Area</th>\n",
       "      <th>Wall_Area</th>\n",
       "      <th>Roof_Area</th>\n",
       "      <th>Overall_Height</th>\n",
       "      <th>Orientation</th>\n",
       "      <th>Glazing_Area</th>\n",
       "      <th>Glazing_Area_Distribution</th>\n",
       "      <th>Heating_Load</th>\n",
       "      <th>Cooling_Load</th>\n",
       "    </tr>\n",
       "  </thead>\n",
       "  <tbody>\n",
       "    <tr>\n",
       "      <th>0</th>\n",
       "      <td>0.98</td>\n",
       "      <td>514.5</td>\n",
       "      <td>294.0</td>\n",
       "      <td>110.25</td>\n",
       "      <td>7.0</td>\n",
       "      <td>2</td>\n",
       "      <td>0.0</td>\n",
       "      <td>0</td>\n",
       "      <td>15.55</td>\n",
       "      <td>21.33</td>\n",
       "    </tr>\n",
       "    <tr>\n",
       "      <th>1</th>\n",
       "      <td>0.98</td>\n",
       "      <td>514.5</td>\n",
       "      <td>294.0</td>\n",
       "      <td>110.25</td>\n",
       "      <td>7.0</td>\n",
       "      <td>3</td>\n",
       "      <td>0.0</td>\n",
       "      <td>0</td>\n",
       "      <td>15.55</td>\n",
       "      <td>21.33</td>\n",
       "    </tr>\n",
       "    <tr>\n",
       "      <th>2</th>\n",
       "      <td>0.98</td>\n",
       "      <td>514.5</td>\n",
       "      <td>294.0</td>\n",
       "      <td>110.25</td>\n",
       "      <td>7.0</td>\n",
       "      <td>4</td>\n",
       "      <td>0.0</td>\n",
       "      <td>0</td>\n",
       "      <td>15.55</td>\n",
       "      <td>21.33</td>\n",
       "    </tr>\n",
       "    <tr>\n",
       "      <th>3</th>\n",
       "      <td>0.98</td>\n",
       "      <td>514.5</td>\n",
       "      <td>294.0</td>\n",
       "      <td>110.25</td>\n",
       "      <td>7.0</td>\n",
       "      <td>5</td>\n",
       "      <td>0.0</td>\n",
       "      <td>0</td>\n",
       "      <td>15.55</td>\n",
       "      <td>21.33</td>\n",
       "    </tr>\n",
       "    <tr>\n",
       "      <th>4</th>\n",
       "      <td>0.90</td>\n",
       "      <td>563.5</td>\n",
       "      <td>318.5</td>\n",
       "      <td>122.50</td>\n",
       "      <td>7.0</td>\n",
       "      <td>2</td>\n",
       "      <td>0.0</td>\n",
       "      <td>0</td>\n",
       "      <td>20.84</td>\n",
       "      <td>28.28</td>\n",
       "    </tr>\n",
       "  </tbody>\n",
       "</table>\n",
       "</div>"
      ],
      "text/plain": [
       "   Relative_Compactness  Surface_Area  Wall_Area  Roof_Area  Overall_Height  \\\n",
       "0                  0.98         514.5      294.0     110.25             7.0   \n",
       "1                  0.98         514.5      294.0     110.25             7.0   \n",
       "2                  0.98         514.5      294.0     110.25             7.0   \n",
       "3                  0.98         514.5      294.0     110.25             7.0   \n",
       "4                  0.90         563.5      318.5     122.50             7.0   \n",
       "\n",
       "   Orientation  Glazing_Area  Glazing_Area_Distribution  Heating_Load  \\\n",
       "0            2           0.0                          0         15.55   \n",
       "1            3           0.0                          0         15.55   \n",
       "2            4           0.0                          0         15.55   \n",
       "3            5           0.0                          0         15.55   \n",
       "4            2           0.0                          0         20.84   \n",
       "\n",
       "   Cooling_Load  \n",
       "0         21.33  \n",
       "1         21.33  \n",
       "2         21.33  \n",
       "3         21.33  \n",
       "4         28.28  "
      ]
     },
     "execution_count": 4,
     "metadata": {},
     "output_type": "execute_result"
    }
   ],
   "source": [
    "raw_data.head()"
   ]
  },
  {
   "cell_type": "code",
   "execution_count": 5,
   "id": "b7f762c7",
   "metadata": {},
   "outputs": [
    {
     "data": {
      "text/plain": [
       "Relative_Compactness         float64\n",
       "Surface_Area                 float64\n",
       "Wall_Area                    float64\n",
       "Roof_Area                    float64\n",
       "Overall_Height               float64\n",
       "Orientation                    int64\n",
       "Glazing_Area                 float64\n",
       "Glazing_Area_Distribution      int64\n",
       "Heating_Load                 float64\n",
       "Cooling_Load                 float64\n",
       "dtype: object"
      ]
     },
     "execution_count": 5,
     "metadata": {},
     "output_type": "execute_result"
    }
   ],
   "source": [
    "raw_data.dtypes"
   ]
  },
  {
   "cell_type": "markdown",
   "id": "6dae97ee",
   "metadata": {},
   "source": [
    "### Corelation"
   ]
  },
  {
   "cell_type": "code",
   "execution_count": 6,
   "id": "506c804a",
   "metadata": {},
   "outputs": [
    {
     "data": {
      "image/png": "[encoded data removed]",
      "text/plain": [
       "<Figure size 432x288 with 2 Axes>"
      ]
     },
     "metadata": {
      "needs_background": "light"
     },
     "output_type": "display_data"
    }
   ],
   "source": [
    "corr = raw_data.corr()\n",
    "fig = plt.figure()\n",
    "ax = fig.add_subplot(111)\n",
    "cax = ax.matshow(corr,cmap='coolwarm', vmin=-1, vmax=1)\n",
    "fig.colorbar(cax)\n",
    "ticks = np.arange(0,len(raw_data.columns),1)\n",
    "ax.set_xticks(ticks)\n",
    "plt.xticks(rotation=90)\n",
    "ax.set_yticks(ticks)\n",
    "ax.set_xticklabels(raw_data.columns)\n",
    "ax.set_yticklabels(raw_data.columns)\n",
    "plt.show()"
   ]
  },
  {
   "cell_type": "code",
   "execution_count": 7,
   "id": "516ed8e9",
   "metadata": {},
   "outputs": [
    {
     "data": {
      "text/html": [
       "<div>\n",
       "<style scoped>\n",
       "    .dataframe tbody tr th:only-of-type {\n",
       "        vertical-align: middle;\n",
       "    }\n",
       "\n",
       "    .dataframe tbody tr th {\n",
       "        vertical-align: top;\n",
       "    }\n",
       "\n",
       "    .dataframe thead th {\n",
       "        text-align: right;\n",
       "    }\n",
       "</style>\n",
       "<table border=\"1\" class=\"dataframe\">\n",
       "  <thead>\n",
       "    <tr style=\"text-align: right;\">\n",
       "      <th></th>\n",
       "      <th>Relative_Compactness</th>\n",
       "      <th>Surface_Area</th>\n",
       "      <th>Wall_Area</th>\n",
       "      <th>Roof_Area</th>\n",
       "      <th>Overall_Height</th>\n",
       "      <th>Orientation</th>\n",
       "      <th>Glazing_Area</th>\n",
       "      <th>Glazing_Area_Distribution</th>\n",
       "      <th>Heating_Load</th>\n",
       "      <th>Cooling_Load</th>\n",
       "    </tr>\n",
       "  </thead>\n",
       "  <tbody>\n",
       "    <tr>\n",
       "      <th>Relative_Compactness</th>\n",
       "      <td>1.00</td>\n",
       "      <td>-0.99</td>\n",
       "      <td>-0.20</td>\n",
       "      <td>-0.87</td>\n",
       "      <td>0.83</td>\n",
       "      <td>0.00</td>\n",
       "      <td>-0.00</td>\n",
       "      <td>-0.00</td>\n",
       "      <td>0.62</td>\n",
       "      <td>0.63</td>\n",
       "    </tr>\n",
       "    <tr>\n",
       "      <th>Surface_Area</th>\n",
       "      <td>-0.99</td>\n",
       "      <td>1.00</td>\n",
       "      <td>0.20</td>\n",
       "      <td>0.88</td>\n",
       "      <td>-0.86</td>\n",
       "      <td>-0.00</td>\n",
       "      <td>0.00</td>\n",
       "      <td>0.00</td>\n",
       "      <td>-0.66</td>\n",
       "      <td>-0.67</td>\n",
       "    </tr>\n",
       "    <tr>\n",
       "      <th>Wall_Area</th>\n",
       "      <td>-0.20</td>\n",
       "      <td>0.20</td>\n",
       "      <td>1.00</td>\n",
       "      <td>-0.29</td>\n",
       "      <td>0.28</td>\n",
       "      <td>-0.00</td>\n",
       "      <td>-0.00</td>\n",
       "      <td>0.00</td>\n",
       "      <td>0.46</td>\n",
       "      <td>0.43</td>\n",
       "    </tr>\n",
       "    <tr>\n",
       "      <th>Roof_Area</th>\n",
       "      <td>-0.87</td>\n",
       "      <td>0.88</td>\n",
       "      <td>-0.29</td>\n",
       "      <td>1.00</td>\n",
       "      <td>-0.97</td>\n",
       "      <td>-0.00</td>\n",
       "      <td>-0.00</td>\n",
       "      <td>-0.00</td>\n",
       "      <td>-0.86</td>\n",
       "      <td>-0.86</td>\n",
       "    </tr>\n",
       "    <tr>\n",
       "      <th>Overall_Height</th>\n",
       "      <td>0.83</td>\n",
       "      <td>-0.86</td>\n",
       "      <td>0.28</td>\n",
       "      <td>-0.97</td>\n",
       "      <td>1.00</td>\n",
       "      <td>0.00</td>\n",
       "      <td>0.00</td>\n",
       "      <td>-0.00</td>\n",
       "      <td>0.89</td>\n",
       "      <td>0.90</td>\n",
       "    </tr>\n",
       "    <tr>\n",
       "      <th>Orientation</th>\n",
       "      <td>0.00</td>\n",
       "      <td>-0.00</td>\n",
       "      <td>-0.00</td>\n",
       "      <td>-0.00</td>\n",
       "      <td>0.00</td>\n",
       "      <td>1.00</td>\n",
       "      <td>-0.00</td>\n",
       "      <td>-0.00</td>\n",
       "      <td>-0.00</td>\n",
       "      <td>0.01</td>\n",
       "    </tr>\n",
       "    <tr>\n",
       "      <th>Glazing_Area</th>\n",
       "      <td>-0.00</td>\n",
       "      <td>0.00</td>\n",
       "      <td>-0.00</td>\n",
       "      <td>-0.00</td>\n",
       "      <td>0.00</td>\n",
       "      <td>-0.00</td>\n",
       "      <td>1.00</td>\n",
       "      <td>0.21</td>\n",
       "      <td>0.27</td>\n",
       "      <td>0.21</td>\n",
       "    </tr>\n",
       "    <tr>\n",
       "      <th>Glazing_Area_Distribution</th>\n",
       "      <td>-0.00</td>\n",
       "      <td>0.00</td>\n",
       "      <td>0.00</td>\n",
       "      <td>-0.00</td>\n",
       "      <td>-0.00</td>\n",
       "      <td>-0.00</td>\n",
       "      <td>0.21</td>\n",
       "      <td>1.00</td>\n",
       "      <td>0.09</td>\n",
       "      <td>0.05</td>\n",
       "    </tr>\n",
       "    <tr>\n",
       "      <th>Heating_Load</th>\n",
       "      <td>0.62</td>\n",
       "      <td>-0.66</td>\n",
       "      <td>0.46</td>\n",
       "      <td>-0.86</td>\n",
       "      <td>0.89</td>\n",
       "      <td>-0.00</td>\n",
       "      <td>0.27</td>\n",
       "      <td>0.09</td>\n",
       "      <td>1.00</td>\n",
       "      <td>0.98</td>\n",
       "    </tr>\n",
       "    <tr>\n",
       "      <th>Cooling_Load</th>\n",
       "      <td>0.63</td>\n",
       "      <td>-0.67</td>\n",
       "      <td>0.43</td>\n",
       "      <td>-0.86</td>\n",
       "      <td>0.90</td>\n",
       "      <td>0.01</td>\n",
       "      <td>0.21</td>\n",
       "      <td>0.05</td>\n",
       "      <td>0.98</td>\n",
       "      <td>1.00</td>\n",
       "    </tr>\n",
       "  </tbody>\n",
       "</table>\n",
       "</div>"
      ],
      "text/plain": [
       "                           Relative_Compactness  Surface_Area  Wall_Area  \\\n",
       "Relative_Compactness                       1.00         -0.99      -0.20   \n",
       "Surface_Area                              -0.99          1.00       0.20   \n",
       "Wall_Area                                 -0.20          0.20       1.00   \n",
       "Roof_Area                                 -0.87          0.88      -0.29   \n",
       "Overall_Height                             0.83         -0.86       0.28   \n",
       "Orientation                                0.00         -0.00      -0.00   \n",
       "Glazing_Area                              -0.00          0.00      -0.00   \n",
       "Glazing_Area_Distribution                 -0.00          0.00       0.00   \n",
       "Heating_Load                               0.62         -0.66       0.46   \n",
       "Cooling_Load                               0.63         -0.67       0.43   \n",
       "\n",
       "                           Roof_Area  Overall_Height  Orientation  \\\n",
       "Relative_Compactness           -0.87            0.83         0.00   \n",
       "Surface_Area                    0.88           -0.86        -0.00   \n",
       "Wall_Area                      -0.29            0.28        -0.00   \n",
       "Roof_Area                       1.00           -0.97        -0.00   \n",
       "Overall_Height                 -0.97            1.00         0.00   \n",
       "Orientation                    -0.00            0.00         1.00   \n",
       "Glazing_Area                   -0.00            0.00        -0.00   \n",
       "Glazing_Area_Distribution      -0.00           -0.00        -0.00   \n",
       "Heating_Load                   -0.86            0.89        -0.00   \n",
       "Cooling_Load                   -0.86            0.90         0.01   \n",
       "\n",
       "                           Glazing_Area  Glazing_Area_Distribution  \\\n",
       "Relative_Compactness              -0.00                      -0.00   \n",
       "Surface_Area                       0.00                       0.00   \n",
       "Wall_Area                         -0.00                       0.00   \n",
       "Roof_Area                         -0.00                      -0.00   \n",
       "Overall_Height                     0.00                      -0.00   \n",
       "Orientation                       -0.00                      -0.00   \n",
       "Glazing_Area                       1.00                       0.21   \n",
       "Glazing_Area_Distribution          0.21                       1.00   \n",
       "Heating_Load                       0.27                       0.09   \n",
       "Cooling_Load                       0.21                       0.05   \n",
       "\n",
       "                           Heating_Load  Cooling_Load  \n",
       "Relative_Compactness               0.62          0.63  \n",
       "Surface_Area                      -0.66         -0.67  \n",
       "Wall_Area                          0.46          0.43  \n",
       "Roof_Area                         -0.86         -0.86  \n",
       "Overall_Height                     0.89          0.90  \n",
       "Orientation                       -0.00          0.01  \n",
       "Glazing_Area                       0.27          0.21  \n",
       "Glazing_Area_Distribution          0.09          0.05  \n",
       "Heating_Load                       1.00          0.98  \n",
       "Cooling_Load                       0.98          1.00  "
      ]
     },
     "execution_count": 7,
     "metadata": {},
     "output_type": "execute_result"
    }
   ],
   "source": [
    "pd.set_option('display.float_format',lambda x: '{:,.2f}'.format(x) if abs(x) < 10000 else '{:,.0f}'.format(x))\n",
    "raw_data.corr()"
   ]
  },
  {
   "cell_type": "markdown",
   "id": "af641e8e",
   "metadata": {},
   "source": [
    "Overall_Height has the highest corelation to Heating_load. According to studies, Results showed that as the height doubles, the wall heat loss for radiator system almost doubles. Other factors such as Roof_area, Surface_Area and Relative_Compactness have a significant value of corelation to Heating_Load."
   ]
  },
  {
   "cell_type": "markdown",
   "id": "018ca24f",
   "metadata": {},
   "source": [
    "### Multicollinearity"
   ]
  },
  {
   "cell_type": "code",
   "execution_count": 8,
   "id": "2c76d8e0",
   "metadata": {},
   "outputs": [
    {
     "data": {
      "text/plain": [
       "array(['Relative_Compactness', 'Surface_Area', 'Wall_Area', 'Roof_Area',\n",
       "       'Overall_Height', 'Orientation', 'Glazing_Area',\n",
       "       'Glazing_Area_Distribution', 'Heating_Load', 'Cooling_Load'],\n",
       "      dtype=object)"
      ]
     },
     "execution_count": 8,
     "metadata": {},
     "output_type": "execute_result"
    }
   ],
   "source": [
    "raw_data.columns.values"
   ]
  },
  {
   "cell_type": "code",
   "execution_count": 9,
   "id": "244198f7",
   "metadata": {},
   "outputs": [],
   "source": [
    "from statsmodels.stats.outliers_influence import variance_inflation_factor\n",
    "variables = raw_data[['Relative_Compactness', 'Surface_Area', 'Wall_Area', 'Roof_Area',\n",
    "       'Overall_Height', 'Orientation', 'Glazing_Area', 'Glazing_Area_Distribution']]\n",
    "vif = pd.DataFrame()\n",
    "vif[\"VIF\"] = [variance_inflation_factor(variables.values, i) for i in range(variables.shape[1])]\n",
    "vif[\"features\"] = variables.columns"
   ]
  },
  {
   "cell_type": "code",
   "execution_count": 10,
   "id": "a00081dc",
   "metadata": {},
   "outputs": [
    {
     "data": {
      "text/html": [
       "<div>\n",
       "<style scoped>\n",
       "    .dataframe tbody tr th:only-of-type {\n",
       "        vertical-align: middle;\n",
       "    }\n",
       "\n",
       "    .dataframe tbody tr th {\n",
       "        vertical-align: top;\n",
       "    }\n",
       "\n",
       "    .dataframe thead th {\n",
       "        text-align: right;\n",
       "    }\n",
       "</style>\n",
       "<table border=\"1\" class=\"dataframe\">\n",
       "  <thead>\n",
       "    <tr style=\"text-align: right;\">\n",
       "      <th></th>\n",
       "      <th>VIF</th>\n",
       "      <th>features</th>\n",
       "    </tr>\n",
       "  </thead>\n",
       "  <tbody>\n",
       "    <tr>\n",
       "      <th>0</th>\n",
       "      <td>168.95</td>\n",
       "      <td>Relative_Compactness</td>\n",
       "    </tr>\n",
       "    <tr>\n",
       "      <th>1</th>\n",
       "      <td>inf</td>\n",
       "      <td>Surface_Area</td>\n",
       "    </tr>\n",
       "    <tr>\n",
       "      <th>2</th>\n",
       "      <td>inf</td>\n",
       "      <td>Wall_Area</td>\n",
       "    </tr>\n",
       "    <tr>\n",
       "      <th>3</th>\n",
       "      <td>inf</td>\n",
       "      <td>Roof_Area</td>\n",
       "    </tr>\n",
       "    <tr>\n",
       "      <th>4</th>\n",
       "      <td>134.04</td>\n",
       "      <td>Overall_Height</td>\n",
       "    </tr>\n",
       "    <tr>\n",
       "      <th>5</th>\n",
       "      <td>10.80</td>\n",
       "      <td>Orientation</td>\n",
       "    </tr>\n",
       "    <tr>\n",
       "      <th>6</th>\n",
       "      <td>4.29</td>\n",
       "      <td>Glazing_Area</td>\n",
       "    </tr>\n",
       "    <tr>\n",
       "      <th>7</th>\n",
       "      <td>4.50</td>\n",
       "      <td>Glazing_Area_Distribution</td>\n",
       "    </tr>\n",
       "  </tbody>\n",
       "</table>\n",
       "</div>"
      ],
      "text/plain": [
       "     VIF                   features\n",
       "0 168.95       Relative_Compactness\n",
       "1    inf               Surface_Area\n",
       "2    inf                  Wall_Area\n",
       "3    inf                  Roof_Area\n",
       "4 134.04             Overall_Height\n",
       "5  10.80                Orientation\n",
       "6   4.29               Glazing_Area\n",
       "7   4.50  Glazing_Area_Distribution"
      ]
     },
     "execution_count": 10,
     "metadata": {},
     "output_type": "execute_result"
    }
   ],
   "source": [
    "vif"
   ]
  },
  {
   "cell_type": "markdown",
   "id": "e5869d34",
   "metadata": {},
   "source": [
    "Since Surface_Area, Wall_Area and Roof_Area have VIF=infinity, it means that they have a perfect correlation thus multicollinearity is present. With respect to heating and cooling load, Roof_Area seems to be more relevant (has a correlation of -0.86 to Heating_Load) thus we choose to retain it."
   ]
  },
  {
   "cell_type": "code",
   "execution_count": 11,
   "id": "e2e829a3",
   "metadata": {},
   "outputs": [],
   "source": [
    "from statsmodels.stats.outliers_influence import variance_inflation_factor\n",
    "variables = raw_data[[ 'Relative_Compactness','Roof_Area','Overall_Height','Orientation',\n",
    "       'Glazing_Area','Glazing_Area_Distribution']]\n",
    "vif = pd.DataFrame()\n",
    "vif[\"VIF\"] = [variance_inflation_factor(variables.values, i) for i in range(variables.shape[1])]\n",
    "vif[\"features\"] = variables.columns"
   ]
  },
  {
   "cell_type": "code",
   "execution_count": 12,
   "id": "4c7ec274",
   "metadata": {},
   "outputs": [
    {
     "data": {
      "text/html": [
       "<div>\n",
       "<style scoped>\n",
       "    .dataframe tbody tr th:only-of-type {\n",
       "        vertical-align: middle;\n",
       "    }\n",
       "\n",
       "    .dataframe tbody tr th {\n",
       "        vertical-align: top;\n",
       "    }\n",
       "\n",
       "    .dataframe thead th {\n",
       "        text-align: right;\n",
       "    }\n",
       "</style>\n",
       "<table border=\"1\" class=\"dataframe\">\n",
       "  <thead>\n",
       "    <tr style=\"text-align: right;\">\n",
       "      <th></th>\n",
       "      <th>VIF</th>\n",
       "      <th>features</th>\n",
       "    </tr>\n",
       "  </thead>\n",
       "  <tbody>\n",
       "    <tr>\n",
       "      <th>0</th>\n",
       "      <td>125.51</td>\n",
       "      <td>Relative_Compactness</td>\n",
       "    </tr>\n",
       "    <tr>\n",
       "      <th>1</th>\n",
       "      <td>24.35</td>\n",
       "      <td>Roof_Area</td>\n",
       "    </tr>\n",
       "    <tr>\n",
       "      <th>2</th>\n",
       "      <td>59.22</td>\n",
       "      <td>Overall_Height</td>\n",
       "    </tr>\n",
       "    <tr>\n",
       "      <th>3</th>\n",
       "      <td>10.73</td>\n",
       "      <td>Orientation</td>\n",
       "    </tr>\n",
       "    <tr>\n",
       "      <th>4</th>\n",
       "      <td>4.29</td>\n",
       "      <td>Glazing_Area</td>\n",
       "    </tr>\n",
       "    <tr>\n",
       "      <th>5</th>\n",
       "      <td>4.49</td>\n",
       "      <td>Glazing_Area_Distribution</td>\n",
       "    </tr>\n",
       "  </tbody>\n",
       "</table>\n",
       "</div>"
      ],
      "text/plain": [
       "     VIF                   features\n",
       "0 125.51       Relative_Compactness\n",
       "1  24.35                  Roof_Area\n",
       "2  59.22             Overall_Height\n",
       "3  10.73                Orientation\n",
       "4   4.29               Glazing_Area\n",
       "5   4.49  Glazing_Area_Distribution"
      ]
     },
     "execution_count": 12,
     "metadata": {},
     "output_type": "execute_result"
    }
   ],
   "source": [
    "vif"
   ]
  },
  {
   "cell_type": "markdown",
   "id": "35c28540",
   "metadata": {},
   "source": [
    "### Adjusted R squared"
   ]
  },
  {
   "cell_type": "code",
   "execution_count": 13,
   "id": "0b7c356f",
   "metadata": {},
   "outputs": [],
   "source": [
    "# Model with all features\n",
    "import statsmodels.formula.api as smf\n",
    "data2=raw_data.copy()\n",
    "lm1 = smf.ols(formula='Heating_Load ~ Relative_Compactness + Surface_Area + Wall_Area + Roof_Area + Overall_Height + Orientation + Glazing_Area + Glazing_Area_Distribution', data=data2).fit()"
   ]
  },
  {
   "cell_type": "code",
   "execution_count": 14,
   "id": "7f7726bf",
   "metadata": {},
   "outputs": [
    {
     "data": {
      "text/html": [
       "<table class=\"simpletable\">\n",
       "<caption>OLS Regression Results</caption>\n",
       "<tr>\n",
       "  <th>Dep. Variable:</th>      <td>Heating_Load</td>   <th>  R-squared:         </th> <td>   0.916</td>\n",
       "</tr>\n",
       "<tr>\n",
       "  <th>Model:</th>                   <td>OLS</td>       <th>  Adj. R-squared:    </th> <td>   0.915</td>\n",
       "</tr>\n",
       "<tr>\n",
       "  <th>Method:</th>             <td>Least Squares</td>  <th>  F-statistic:       </th> <td>   1187.</td>\n",
       "</tr>\n",
       "<tr>\n",
       "  <th>Date:</th>             <td>Tue, 22 Feb 2022</td> <th>  Prob (F-statistic):</th>  <td>  0.00</td> \n",
       "</tr>\n",
       "<tr>\n",
       "  <th>Time:</th>                 <td>11:51:08</td>     <th>  Log-Likelihood:    </th> <td> -1912.5</td>\n",
       "</tr>\n",
       "<tr>\n",
       "  <th>No. Observations:</th>      <td>   768</td>      <th>  AIC:               </th> <td>   3841.</td>\n",
       "</tr>\n",
       "<tr>\n",
       "  <th>Df Residuals:</th>          <td>   760</td>      <th>  BIC:               </th> <td>   3878.</td>\n",
       "</tr>\n",
       "<tr>\n",
       "  <th>Df Model:</th>              <td>     7</td>      <th>                     </th>     <td> </td>   \n",
       "</tr>\n",
       "<tr>\n",
       "  <th>Covariance Type:</th>      <td>nonrobust</td>    <th>                     </th>     <td> </td>   \n",
       "</tr>\n",
       "</table>\n",
       "<table class=\"simpletable\">\n",
       "<tr>\n",
       "              <td></td>                 <th>coef</th>     <th>std err</th>      <th>t</th>      <th>P>|t|</th>  <th>[0.025</th>    <th>0.975]</th>  \n",
       "</tr>\n",
       "<tr>\n",
       "  <th>Intercept</th>                 <td>   84.0145</td> <td>   19.034</td> <td>    4.414</td> <td> 0.000</td> <td>   46.650</td> <td>  121.379</td>\n",
       "</tr>\n",
       "<tr>\n",
       "  <th>Relative_Compactness</th>      <td>  -64.7740</td> <td>   10.289</td> <td>   -6.295</td> <td> 0.000</td> <td>  -84.973</td> <td>  -44.575</td>\n",
       "</tr>\n",
       "<tr>\n",
       "  <th>Surface_Area</th>              <td>   -0.0626</td> <td>    0.013</td> <td>   -4.670</td> <td> 0.000</td> <td>   -0.089</td> <td>   -0.036</td>\n",
       "</tr>\n",
       "<tr>\n",
       "  <th>Wall_Area</th>                 <td>    0.0361</td> <td>    0.004</td> <td>    9.386</td> <td> 0.000</td> <td>    0.029</td> <td>    0.044</td>\n",
       "</tr>\n",
       "<tr>\n",
       "  <th>Roof_Area</th>                 <td>   -0.0494</td> <td>    0.008</td> <td>   -6.569</td> <td> 0.000</td> <td>   -0.064</td> <td>   -0.035</td>\n",
       "</tr>\n",
       "<tr>\n",
       "  <th>Overall_Height</th>            <td>    4.1699</td> <td>    0.338</td> <td>   12.337</td> <td> 0.000</td> <td>    3.506</td> <td>    4.833</td>\n",
       "</tr>\n",
       "<tr>\n",
       "  <th>Orientation</th>               <td>   -0.0233</td> <td>    0.095</td> <td>   -0.246</td> <td> 0.805</td> <td>   -0.209</td> <td>    0.163</td>\n",
       "</tr>\n",
       "<tr>\n",
       "  <th>Glazing_Area</th>              <td>   19.9327</td> <td>    0.814</td> <td>   24.488</td> <td> 0.000</td> <td>   18.335</td> <td>   21.531</td>\n",
       "</tr>\n",
       "<tr>\n",
       "  <th>Glazing_Area_Distribution</th> <td>    0.2038</td> <td>    0.070</td> <td>    2.914</td> <td> 0.004</td> <td>    0.067</td> <td>    0.341</td>\n",
       "</tr>\n",
       "</table>\n",
       "<table class=\"simpletable\">\n",
       "<tr>\n",
       "  <th>Omnibus:</th>       <td>18.648</td> <th>  Durbin-Watson:     </th> <td>   0.654</td>\n",
       "</tr>\n",
       "<tr>\n",
       "  <th>Prob(Omnibus):</th> <td> 0.000</td> <th>  Jarque-Bera (JB):  </th> <td>  37.708</td>\n",
       "</tr>\n",
       "<tr>\n",
       "  <th>Skew:</th>          <td> 0.044</td> <th>  Prob(JB):          </th> <td>6.48e-09</td>\n",
       "</tr>\n",
       "<tr>\n",
       "  <th>Kurtosis:</th>      <td> 4.082</td> <th>  Cond. No.          </th> <td>2.80e+16</td>\n",
       "</tr>\n",
       "</table><br/><br/>Notes:<br/>[1] Standard Errors assume that the covariance matrix of the errors is correctly specified.<br/>[2] The smallest eigenvalue is 5.8e-25. This might indicate that there are<br/>strong multicollinearity problems or that the design matrix is singular."
      ],
      "text/plain": [
       "<class 'statsmodels.iolib.summary.Summary'>\n",
       "\"\"\"\n",
       "                            OLS Regression Results                            \n",
       "==============================================================================\n",
       "Dep. Variable:           Heating_Load   R-squared:                       0.916\n",
       "Model:                            OLS   Adj. R-squared:                  0.915\n",
       "Method:                 Least Squares   F-statistic:                     1187.\n",
       "Date:                Tue, 22 Feb 2022   Prob (F-statistic):               0.00\n",
       "Time:                        11:51:08   Log-Likelihood:                -1912.5\n",
       "No. Observations:                 768   AIC:                             3841.\n",
       "Df Residuals:                     760   BIC:                             3878.\n",
       "Df Model:                           7                                         \n",
       "Covariance Type:            nonrobust                                         \n",
       "=============================================================================================\n",
       "                                coef    std err          t      P>|t|      [0.025      0.975]\n",
       "---------------------------------------------------------------------------------------------\n",
       "Intercept                    84.0145     19.034      4.414      0.000      46.650     121.379\n",
       "Relative_Compactness        -64.7740     10.289     -6.295      0.000     -84.973     -44.575\n",
       "Surface_Area                 -0.0626      0.013     -4.670      0.000      -0.089      -0.036\n",
       "Wall_Area                     0.0361      0.004      9.386      0.000       0.029       0.044\n",
       "Roof_Area                    -0.0494      0.008     -6.569      0.000      -0.064      -0.035\n",
       "Overall_Height                4.1699      0.338     12.337      0.000       3.506       4.833\n",
       "Orientation                  -0.0233      0.095     -0.246      0.805      -0.209       0.163\n",
       "Glazing_Area                 19.9327      0.814     24.488      0.000      18.335      21.531\n",
       "Glazing_Area_Distribution     0.2038      0.070      2.914      0.004       0.067       0.341\n",
       "==============================================================================\n",
       "Omnibus:                       18.648   Durbin-Watson:                   0.654\n",
       "Prob(Omnibus):                  0.000   Jarque-Bera (JB):               37.708\n",
       "Skew:                           0.044   Prob(JB):                     6.48e-09\n",
       "Kurtosis:                       4.082   Cond. No.                     2.80e+16\n",
       "==============================================================================\n",
       "\n",
       "Notes:\n",
       "[1] Standard Errors assume that the covariance matrix of the errors is correctly specified.\n",
       "[2] The smallest eigenvalue is 5.8e-25. This might indicate that there are\n",
       "strong multicollinearity problems or that the design matrix is singular.\n",
       "\"\"\""
      ]
     },
     "execution_count": 14,
     "metadata": {},
     "output_type": "execute_result"
    }
   ],
   "source": [
    "# Summary\n",
    "lm1.summary()"
   ]
  },
  {
   "cell_type": "markdown",
   "id": "28d8be8e",
   "metadata": {},
   "source": [
    "Orientation has a P-value of 0.805 which is greater than 0.05 thus we opt to drop it."
   ]
  },
  {
   "cell_type": "code",
   "execution_count": 15,
   "id": "f1ed64c4",
   "metadata": {},
   "outputs": [],
   "source": [
    "# Model with chosen features\n",
    "import statsmodels.formula.api as smf\n",
    "data2=raw_data.copy()\n",
    "lm2 = smf.ols(formula='Heating_Load ~ Relative_Compactness + Roof_Area + Overall_Height + Glazing_Area + Glazing_Area_Distribution' , data=data2).fit()"
   ]
  },
  {
   "cell_type": "code",
   "execution_count": 16,
   "id": "da1f46cb",
   "metadata": {},
   "outputs": [
    {
     "data": {
      "text/html": [
       "<table class=\"simpletable\">\n",
       "<caption>OLS Regression Results</caption>\n",
       "<tr>\n",
       "  <th>Dep. Variable:</th>      <td>Heating_Load</td>   <th>  R-squared:         </th> <td>   0.916</td>\n",
       "</tr>\n",
       "<tr>\n",
       "  <th>Model:</th>                   <td>OLS</td>       <th>  Adj. R-squared:    </th> <td>   0.915</td>\n",
       "</tr>\n",
       "<tr>\n",
       "  <th>Method:</th>             <td>Least Squares</td>  <th>  F-statistic:       </th> <td>   1656.</td>\n",
       "</tr>\n",
       "<tr>\n",
       "  <th>Date:</th>             <td>Tue, 22 Feb 2022</td> <th>  Prob (F-statistic):</th>  <td>  0.00</td> \n",
       "</tr>\n",
       "<tr>\n",
       "  <th>Time:</th>                 <td>11:51:08</td>     <th>  Log-Likelihood:    </th> <td> -1914.7</td>\n",
       "</tr>\n",
       "<tr>\n",
       "  <th>No. Observations:</th>      <td>   768</td>      <th>  AIC:               </th> <td>   3841.</td>\n",
       "</tr>\n",
       "<tr>\n",
       "  <th>Df Residuals:</th>          <td>   762</td>      <th>  BIC:               </th> <td>   3869.</td>\n",
       "</tr>\n",
       "<tr>\n",
       "  <th>Df Model:</th>              <td>     5</td>      <th>                     </th>     <td> </td>   \n",
       "</tr>\n",
       "<tr>\n",
       "  <th>Covariance Type:</th>      <td>nonrobust</td>    <th>                     </th>     <td> </td>   \n",
       "</tr>\n",
       "</table>\n",
       "<table class=\"simpletable\">\n",
       "<tr>\n",
       "              <td></td>                 <th>coef</th>     <th>std err</th>      <th>t</th>      <th>P>|t|</th>  <th>[0.025</th>    <th>0.975]</th>  \n",
       "</tr>\n",
       "<tr>\n",
       "  <th>Intercept</th>                 <td>   45.4485</td> <td>    4.186</td> <td>   10.859</td> <td> 0.000</td> <td>   37.232</td> <td>   53.665</td>\n",
       "</tr>\n",
       "<tr>\n",
       "  <th>Relative_Compactness</th>      <td>  -43.8717</td> <td>    2.049</td> <td>  -21.410</td> <td> 0.000</td> <td>  -47.894</td> <td>  -39.849</td>\n",
       "</tr>\n",
       "<tr>\n",
       "  <th>Roof_Area</th>                 <td>   -0.1080</td> <td>    0.012</td> <td>   -9.336</td> <td> 0.000</td> <td>   -0.131</td> <td>   -0.085</td>\n",
       "</tr>\n",
       "<tr>\n",
       "  <th>Overall_Height</th>            <td>    4.6105</td> <td>    0.263</td> <td>   17.518</td> <td> 0.000</td> <td>    4.094</td> <td>    5.127</td>\n",
       "</tr>\n",
       "<tr>\n",
       "  <th>Glazing_Area</th>              <td>   19.9327</td> <td>    0.815</td> <td>   24.450</td> <td> 0.000</td> <td>   18.332</td> <td>   21.533</td>\n",
       "</tr>\n",
       "<tr>\n",
       "  <th>Glazing_Area_Distribution</th> <td>    0.2038</td> <td>    0.070</td> <td>    2.910</td> <td> 0.004</td> <td>    0.066</td> <td>    0.341</td>\n",
       "</tr>\n",
       "</table>\n",
       "<table class=\"simpletable\">\n",
       "<tr>\n",
       "  <th>Omnibus:</th>       <td>17.358</td> <th>  Durbin-Watson:     </th> <td>   0.639</td>\n",
       "</tr>\n",
       "<tr>\n",
       "  <th>Prob(Omnibus):</th> <td> 0.000</td> <th>  Jarque-Bera (JB):  </th> <td>  33.700</td>\n",
       "</tr>\n",
       "<tr>\n",
       "  <th>Skew:</th>          <td> 0.051</td> <th>  Prob(JB):          </th> <td>4.81e-08</td>\n",
       "</tr>\n",
       "<tr>\n",
       "  <th>Kurtosis:</th>      <td> 4.021</td> <th>  Cond. No.          </th> <td>7.62e+03</td>\n",
       "</tr>\n",
       "</table><br/><br/>Notes:<br/>[1] Standard Errors assume that the covariance matrix of the errors is correctly specified.<br/>[2] The condition number is large, 7.62e+03. This might indicate that there are<br/>strong multicollinearity or other numerical problems."
      ],
      "text/plain": [
       "<class 'statsmodels.iolib.summary.Summary'>\n",
       "\"\"\"\n",
       "                            OLS Regression Results                            \n",
       "==============================================================================\n",
       "Dep. Variable:           Heating_Load   R-squared:                       0.916\n",
       "Model:                            OLS   Adj. R-squared:                  0.915\n",
       "Method:                 Least Squares   F-statistic:                     1656.\n",
       "Date:                Tue, 22 Feb 2022   Prob (F-statistic):               0.00\n",
       "Time:                        11:51:08   Log-Likelihood:                -1914.7\n",
       "No. Observations:                 768   AIC:                             3841.\n",
       "Df Residuals:                     762   BIC:                             3869.\n",
       "Df Model:                           5                                         \n",
       "Covariance Type:            nonrobust                                         \n",
       "=============================================================================================\n",
       "                                coef    std err          t      P>|t|      [0.025      0.975]\n",
       "---------------------------------------------------------------------------------------------\n",
       "Intercept                    45.4485      4.186     10.859      0.000      37.232      53.665\n",
       "Relative_Compactness        -43.8717      2.049    -21.410      0.000     -47.894     -39.849\n",
       "Roof_Area                    -0.1080      0.012     -9.336      0.000      -0.131      -0.085\n",
       "Overall_Height                4.6105      0.263     17.518      0.000       4.094       5.127\n",
       "Glazing_Area                 19.9327      0.815     24.450      0.000      18.332      21.533\n",
       "Glazing_Area_Distribution     0.2038      0.070      2.910      0.004       0.066       0.341\n",
       "==============================================================================\n",
       "Omnibus:                       17.358   Durbin-Watson:                   0.639\n",
       "Prob(Omnibus):                  0.000   Jarque-Bera (JB):               33.700\n",
       "Skew:                           0.051   Prob(JB):                     4.81e-08\n",
       "Kurtosis:                       4.021   Cond. No.                     7.62e+03\n",
       "==============================================================================\n",
       "\n",
       "Notes:\n",
       "[1] Standard Errors assume that the covariance matrix of the errors is correctly specified.\n",
       "[2] The condition number is large, 7.62e+03. This might indicate that there are\n",
       "strong multicollinearity or other numerical problems.\n",
       "\"\"\""
      ]
     },
     "execution_count": 16,
     "metadata": {},
     "output_type": "execute_result"
    }
   ],
   "source": [
    "lm2.summary()"
   ]
  },
  {
   "cell_type": "markdown",
   "id": "520efa1b",
   "metadata": {},
   "source": [
    "The value of adjusted R squared is retained at 0.915. Removing any other features results to a penalty. "
   ]
  },
  {
   "cell_type": "markdown",
   "id": "e59da47b",
   "metadata": {},
   "source": [
    "### Normalizing"
   ]
  },
  {
   "cell_type": "code",
   "execution_count": 17,
   "id": "ca6946f7",
   "metadata": {},
   "outputs": [],
   "source": [
    "from sklearn.preprocessing import Normalizer\n",
    "nr = Normalizer(copy=False)\n",
    "\n",
    "X = raw_data[['Relative_Compactness','Roof_Area','Overall_Height', 'Glazing_Area','Glazing_Area_Distribution']]\n",
    "X = nr.fit_transform(X)\n",
    "Y = raw_data[['Heating_Load','Cooling_Load']]"
   ]
  },
  {
   "cell_type": "markdown",
   "id": "ac3e6788",
   "metadata": {},
   "source": [
    "## Modelling"
   ]
  },
  {
   "cell_type": "code",
   "execution_count": 18,
   "id": "613f6ae0",
   "metadata": {},
   "outputs": [],
   "source": [
    "from sklearn.model_selection import train_test_split\n",
    "x_train, x_test, y_train, y_test = train_test_split(X, Y, test_size = 0.20, random_state = 365)"
   ]
  },
  {
   "cell_type": "code",
   "execution_count": 19,
   "id": "3f979d07",
   "metadata": {},
   "outputs": [],
   "source": [
    "#Create model evaluation function\n",
    "def evaluate(model, test_features, test_labels):\n",
    "    from sklearn.metrics import r2_score\n",
    "    predictions = model.predict(test_features)\n",
    "    R2 = np.mean(r2_score(test_labels, predictions))\n",
    "    print('R2 score = %.3f' % R2)\n",
    "    return r2_score\n"
   ]
  },
  {
   "cell_type": "markdown",
   "id": "11501ef9",
   "metadata": {},
   "source": [
    "### 1.Decision tree regressor"
   ]
  },
  {
   "cell_type": "code",
   "execution_count": 20,
   "id": "1d0cf186",
   "metadata": {},
   "outputs": [
    {
     "name": "stdout",
     "output_type": "stream",
     "text": [
      "R2 score = 0.976\n"
     ]
    }
   ],
   "source": [
    "#Decision tree regressor\n",
    "from sklearn.tree import DecisionTreeRegressor\n",
    "# Create decision tree model \n",
    "dt_model = DecisionTreeRegressor(random_state=365)\n",
    "# Apply the model\n",
    "dt_model.fit(x_train, y_train)\n",
    "# Predicted value\n",
    "y_pred1 = dt_model.predict(x_test)\n",
    "#R2 score before optimization\n",
    "R2_before_dt= evaluate(dt_model, x_test, y_test)"
   ]
  },
  {
   "cell_type": "code",
   "execution_count": 21,
   "id": "5dc560d0",
   "metadata": {},
   "outputs": [
    {
     "data": {
      "image/png": "[encoded data removed]",
      "text/plain": [
       "<Figure size 432x288 with 2 Axes>"
      ]
     },
     "metadata": {
      "needs_background": "light"
     },
     "output_type": "display_data"
    },
    {
     "data": {
      "text/plain": [
       "<Figure size 360x360 with 0 Axes>"
      ]
     },
     "metadata": {},
     "output_type": "display_data"
    },
    {
     "data": {
      "text/plain": [
       "<Figure size 360x360 with 0 Axes>"
      ]
     },
     "metadata": {},
     "output_type": "display_data"
    }
   ],
   "source": [
    "f, (ax1, ax2) = plt.subplots(1, 2, sharey=True)\n",
    "#Visualize the heating load output before optimization\n",
    "plt.figure(figsize = (5,5))\n",
    "ax1.plot(range(0,len(x_test)),y_test.iloc[:,0],'o',color='red',label = 'Actual Values')\n",
    "ax1.plot(range(0,len(x_test)),y_pred1[:,0],'X',color='yellow',label = 'Predicted Values')\n",
    "ax1.set_xlabel('Test Cases')\n",
    "ax1.set_ylabel('Heating Load')\n",
    "ax1.set_title('Heating  Load Before Optimization')\n",
    "ax1.legend(loc = 'upper right')\n",
    "\n",
    "#Visualize the cooling load output before optimization\n",
    "plt.figure(figsize = (5,5))\n",
    "ax2.plot(range(0,len(x_test)),y_test.iloc[:,1],'o',color='green',label = 'Actual Values')\n",
    "ax2.plot(range(0,len(x_test)),y_pred1[:,1],'X',color='blue',label = 'Predicted Values')\n",
    "ax2.set_xlabel('Test Cases')\n",
    "ax2.set_ylabel('Cooling Load')\n",
    "ax2.set_title('Cooling Load Before Optimization')\n",
    "ax2.legend(loc = 'upper right')\n",
    "\n",
    "plt.show()"
   ]
  },
  {
   "cell_type": "code",
   "execution_count": 22,
   "id": "ebfd41da",
   "metadata": {},
   "outputs": [
    {
     "data": {
      "image/png": "[encoded data removed]",
      "text/plain": [
       "<Figure size 432x288 with 2 Axes>"
      ]
     },
     "metadata": {
      "needs_background": "light"
     },
     "output_type": "display_data"
    },
    {
     "data": {
      "image/png": "[encoded data removed]",
      "text/plain": [
       "<Figure size 360x360 with 1 Axes>"
      ]
     },
     "metadata": {
      "needs_background": "light"
     },
     "output_type": "display_data"
    }
   ],
   "source": [
    "# Finding the best decision tree optimization parameters\n",
    "\n",
    "f, (ax1, ax2) = plt.subplots(1, 2, sharey=True)\n",
    "# Max Depth\n",
    "dt_acc = []\n",
    "dt_depth = range(1,11)\n",
    "for i in dt_depth:\n",
    "    dt = DecisionTreeRegressor(random_state=123, max_depth=i)\n",
    "    dt.fit(x_train, y_train)\n",
    "    dt_acc.append(dt.score(x_test, y_test))\n",
    "ax1.plot(dt_depth,dt_acc)\n",
    "ax1.set_title('Max Depth')\n",
    "\n",
    "#Min Samples Split\n",
    "dt_acc = []\n",
    "dt_samples_split = range(10,21)\n",
    "for i in dt_samples_split:\n",
    "    dt = DecisionTreeRegressor(random_state=365, min_samples_split=i)\n",
    "    dt.fit(x_train, y_train)\n",
    "    dt_acc.append(dt.score(x_test, y_test))\n",
    "ax2.plot(dt_samples_split,dt_acc)\n",
    "ax2.set_title('Min Samples Split')\n",
    "\n",
    "#Min Sample Leaf\n",
    "plt.figure(figsize = (5,5))\n",
    "dt_acc = []\n",
    "dt_samples_leaf = range(1,10)\n",
    "for i in dt_samples_leaf:\n",
    "    dt = DecisionTreeRegressor(random_state=365, min_samples_leaf=i)\n",
    "    dt.fit(x_train, y_train)\n",
    "    dt_acc.append(dt.score(x_test, y_test))\n",
    "\n",
    "plt.plot(dt_samples_leaf,dt_acc)\n",
    "plt.title('Min Sample Leaf')\n",
    "\n",
    "\n",
    "\n",
    "plt.show()"
   ]
  },
  {
   "cell_type": "code",
   "execution_count": 23,
   "id": "2edf2bb7",
   "metadata": {},
   "outputs": [
    {
     "data": {
      "text/plain": [
       "GridSearchCV(cv=10, estimator=DecisionTreeRegressor(random_state=365),\n",
       "             param_grid={'max_depth': [6, 7, 8], 'min_samples_leaf': [2, 3, 4],\n",
       "                         'min_samples_split': [16, 17, 18]})"
      ]
     },
     "execution_count": 23,
     "metadata": {},
     "output_type": "execute_result"
    }
   ],
   "source": [
    "# Decision tree optimization parameters\n",
    "from sklearn.model_selection import GridSearchCV\n",
    "parameters = {'max_depth' : [6,7,8],\n",
    "              'min_samples_split': [16,17,18],\n",
    "              'min_samples_leaf' : [2,3,4]}\n",
    "\n",
    "\n",
    "#Create new model using the GridSearch\n",
    "dt_random = GridSearchCV(dt_model, parameters, cv=10)\n",
    "\n",
    "#Apply the model\n",
    "dt_random.fit(x_train, y_train)"
   ]
  },
  {
   "cell_type": "code",
   "execution_count": 24,
   "id": "5cfdc9e6",
   "metadata": {},
   "outputs": [
    {
     "data": {
      "text/plain": [
       "{'max_depth': 7, 'min_samples_leaf': 2, 'min_samples_split': 18}"
      ]
     },
     "execution_count": 24,
     "metadata": {},
     "output_type": "execute_result"
    }
   ],
   "source": [
    "#View the best parameters\n",
    "dt_random.best_params_"
   ]
  },
  {
   "cell_type": "code",
   "execution_count": 25,
   "id": "63ca1571",
   "metadata": {},
   "outputs": [],
   "source": [
    "# Predicted value\n",
    "y_pred1_ = dt_random.best_estimator_.predict(x_test)"
   ]
  },
  {
   "cell_type": "code",
   "execution_count": 26,
   "id": "6c0083ea",
   "metadata": {},
   "outputs": [
    {
     "name": "stdout",
     "output_type": "stream",
     "text": [
      "R2 score = 0.980\n"
     ]
    }
   ],
   "source": [
    "#R2 score after optimization\n",
    "dt_best_random = dt_random.best_estimator_\n",
    "R2_after_dt= evaluate(dt_best_random, x_test, y_test)"
   ]
  },
  {
   "cell_type": "code",
   "execution_count": 27,
   "id": "23b794e9",
   "metadata": {},
   "outputs": [
    {
     "data": {
      "image/png": "[encoded data removed]",
      "text/plain": [
       "<Figure size 432x288 with 2 Axes>"
      ]
     },
     "metadata": {
      "needs_background": "light"
     },
     "output_type": "display_data"
    },
    {
     "data": {
      "text/plain": [
       "<Figure size 360x360 with 0 Axes>"
      ]
     },
     "metadata": {},
     "output_type": "display_data"
    },
    {
     "data": {
      "text/plain": [
       "<Figure size 360x360 with 0 Axes>"
      ]
     },
     "metadata": {},
     "output_type": "display_data"
    }
   ],
   "source": [
    "f, (ax1, ax2) = plt.subplots(1, 2, sharey=True)\n",
    "#Visualize the heating load output after optimization\n",
    "plt.figure(figsize = (5,5))\n",
    "ax1.plot(range(0,len(x_test)),y_test.iloc[:,0],'o',color='red',label = 'Actual Values')\n",
    "ax1.plot(range(0,len(x_test)),y_pred1_[:,0],'X',color='yellow',label = 'Predicted Values')\n",
    "ax1.set_xlabel('Test Cases')\n",
    "ax1.set_ylabel('Heating Load')\n",
    "ax1.set_title('Heating  Load After Optimization')\n",
    "ax1.legend(loc = 'upper right')\n",
    "\n",
    "#Visualize the cooling load output after optimization\n",
    "plt.figure(figsize = (5,5))\n",
    "ax2.plot(range(0,len(x_test)),y_test.iloc[:,1],'o',color='green',label = 'Actual Values')\n",
    "ax2.plot(range(0,len(x_test)),y_pred1_[:,1],'X',color='blue',label = 'Predicted Values')\n",
    "ax2.set_xlabel('Test Cases')\n",
    "ax2.set_ylabel('Cooling Load')\n",
    "ax2.set_title('Cooling Load After Optimization')\n",
    "ax2.legend(loc = 'upper right')\n",
    "\n",
    "plt.show()"
   ]
  },
  {
   "cell_type": "markdown",
   "id": "3c5c78d0",
   "metadata": {},
   "source": [
    "### 2.Random forest regressor"
   ]
  },
  {
   "cell_type": "code",
   "execution_count": 28,
   "id": "8e55fe41",
   "metadata": {},
   "outputs": [
    {
     "name": "stdout",
     "output_type": "stream",
     "text": [
      "R2 score = 0.978\n"
     ]
    }
   ],
   "source": [
    "#Import random forest regressor\n",
    "from sklearn.ensemble import RandomForestRegressor\n",
    "# Create random forest model \n",
    "rf_model = RandomForestRegressor(random_state=365)\n",
    "# Apply the model\n",
    "rf_model.fit(x_train, y_train)\n",
    "# Predicted value\n",
    "y_pred2 = rf_model.predict(x_test)\n",
    "#R2 score before optimization\n",
    "R2_before_rf= evaluate(rf_model, x_test, y_test)"
   ]
  },
  {
   "cell_type": "code",
   "execution_count": 29,
   "id": "258e8f8b",
   "metadata": {},
   "outputs": [
    {
     "data": {
      "image/png": "[encoded data removed]",
      "text/plain": [
       "<Figure size 432x288 with 2 Axes>"
      ]
     },
     "metadata": {
      "needs_background": "light"
     },
     "output_type": "display_data"
    },
    {
     "data": {
      "text/plain": [
       "<Figure size 360x360 with 0 Axes>"
      ]
     },
     "metadata": {},
     "output_type": "display_data"
    },
    {
     "data": {
      "text/plain": [
       "<Figure size 360x360 with 0 Axes>"
      ]
     },
     "metadata": {},
     "output_type": "display_data"
    }
   ],
   "source": [
    "f, (ax1, ax2) = plt.subplots(1, 2, sharey=True)\n",
    "#Visualize the heating load output before optimization\n",
    "plt.figure(figsize = (5,5))\n",
    "ax1.plot(range(0,len(x_test)),y_test.iloc[:,0],'o',color='red',label = 'Actual Values')\n",
    "ax1.plot(range(0,len(x_test)),y_pred2[:,0],'X',color='yellow',label = 'Predicted Values')\n",
    "ax1.set_xlabel('Test Cases')\n",
    "ax1.set_ylabel('Heating Load')\n",
    "ax1.set_title('Heating  Load Before Optimization')\n",
    "ax1.legend(loc = 'upper right')\n",
    "\n",
    "#Visualize the cooling load output before optimization\n",
    "plt.figure(figsize = (5,5))\n",
    "ax2.plot(range(0,len(x_test)),y_test.iloc[:,1],'o',color='green',label = 'Actual Values')\n",
    "ax2.plot(range(0,len(x_test)),y_pred2[:,1],'X',color='blue',label = 'Predicted Values')\n",
    "ax2.set_xlabel('Test Cases')\n",
    "ax2.set_ylabel('Cooling Load')\n",
    "ax2.set_title('Cooling Load Before Optimization')\n",
    "ax2.legend(loc = 'upper right')\n",
    "\n",
    "plt.show()"
   ]
  },
  {
   "cell_type": "code",
   "execution_count": 30,
   "id": "bb5e4d8b",
   "metadata": {},
   "outputs": [
    {
     "data": {
      "image/png": "[encoded data removed]",
      "text/plain": [
       "<Figure size 432x288 with 4 Axes>"
      ]
     },
     "metadata": {
      "needs_background": "light"
     },
     "output_type": "display_data"
    }
   ],
   "source": [
    "# Finding the best random forest optimization parameters\n",
    "\n",
    "f, axarr = plt.subplots(2, 2)\n",
    "\n",
    "# Max Depth\n",
    "rf_acc = []\n",
    "rf_depth = range(1,11)\n",
    "for i in rf_depth:\n",
    "    rf = RandomForestRegressor(random_state=365, max_depth=i)\n",
    "    rf.fit(x_train, y_train)\n",
    "    rf_acc.append(rf.score(x_test, y_test))\n",
    "axarr[0, 0].plot(rf_depth,rf_acc)\n",
    "axarr[0, 0].set_title('Max Depth')\n",
    "\n",
    "#Min Samples Split\n",
    "rf_acc = []\n",
    "rf_samples_split = range(10,21)\n",
    "for i in rf_samples_split:\n",
    "    rf = RandomForestRegressor(random_state=365, min_samples_split=i)\n",
    "    rf.fit(x_train, y_train)\n",
    "    rf_acc.append(rf.score(x_test, y_test))\n",
    "axarr[0, 1].plot(rf_samples_split,rf_acc)\n",
    "axarr[0, 1].set_title('Min Samples Split')\n",
    "\n",
    "#Min Sample Leaf\n",
    "rf_acc = []\n",
    "rf_samples_leaf = range(1,10)\n",
    "for i in rf_samples_leaf:\n",
    "    rf = RandomForestRegressor(random_state=365, min_samples_leaf=i)\n",
    "    rf.fit(x_train, y_train)\n",
    "    rf_acc.append(rf.score(x_test, y_test))\n",
    "\n",
    "axarr[1, 0].plot(rf_samples_leaf,rf_acc)\n",
    "axarr[1, 0].set_title('Min Sample Leaf')\n",
    "\n",
    "#N Estimator\n",
    "rf_acc = []\n",
    "rf_estimators = range(50,59)\n",
    "for i in rf_estimators:\n",
    "    rf = RandomForestRegressor(random_state=365, n_estimators=i)\n",
    "    rf.fit(x_train, y_train)\n",
    "    rf_acc.append(rf.score(x_test, y_test))\n",
    "\n",
    "axarr[1, 1].plot(rf_estimators,rf_acc)\n",
    "axarr[1, 1].set_title('N Estimator')\n",
    "\n",
    "plt.show()"
   ]
  },
  {
   "cell_type": "code",
   "execution_count": 31,
   "id": "5a183618",
   "metadata": {},
   "outputs": [
    {
     "data": {
      "text/plain": [
       "GridSearchCV(cv=10, estimator=RandomForestRegressor(random_state=365),\n",
       "             param_grid={'max_depth': [6, 7, 8], 'min_samples_leaf': [2, 3, 4],\n",
       "                         'min_samples_split': [12, 13, 14],\n",
       "                         'n_estimators': [53, 54, 55]})"
      ]
     },
     "execution_count": 31,
     "metadata": {},
     "output_type": "execute_result"
    }
   ],
   "source": [
    "# Random forest optimization parameters\n",
    "from sklearn.model_selection import GridSearchCV\n",
    "parameters = {'max_depth' : [6,7,8],\n",
    "              'min_samples_split': [12,13,14],\n",
    "              'min_samples_leaf' : [2,3,4],\n",
    "              'n_estimators': [53,54,55]}\n",
    "\n",
    "\n",
    "#Create new model using the GridSearch\n",
    "rf_random = GridSearchCV(rf_model, parameters, cv=10)\n",
    "\n",
    "#Apply the model\n",
    "rf_random.fit(x_train, y_train)"
   ]
  },
  {
   "cell_type": "code",
   "execution_count": 32,
   "id": "cf152403",
   "metadata": {},
   "outputs": [
    {
     "data": {
      "text/plain": [
       "{'max_depth': 8,\n",
       " 'min_samples_leaf': 2,\n",
       " 'min_samples_split': 12,\n",
       " 'n_estimators': 54}"
      ]
     },
     "execution_count": 32,
     "metadata": {},
     "output_type": "execute_result"
    }
   ],
   "source": [
    "#View the best parameters\n",
    "rf_random.best_params_"
   ]
  },
  {
   "cell_type": "code",
   "execution_count": 33,
   "id": "f13acffa",
   "metadata": {},
   "outputs": [
    {
     "name": "stdout",
     "output_type": "stream",
     "text": [
      "R2 score = 0.982\n"
     ]
    }
   ],
   "source": [
    "# Predicted value\n",
    "y_pred2_ = rf_random.best_estimator_.predict(x_test)\n",
    "#R2 score after optimization\n",
    "best_random_rf = rf_random.best_estimator_\n",
    "R2_after_rf= evaluate(best_random_rf, x_test, y_test)"
   ]
  },
  {
   "cell_type": "code",
   "execution_count": 34,
   "id": "11936bda",
   "metadata": {},
   "outputs": [
    {
     "data": {
      "image/png": "[encoded data removed]",
      "text/plain": [
       "<Figure size 432x288 with 2 Axes>"
      ]
     },
     "metadata": {
      "needs_background": "light"
     },
     "output_type": "display_data"
    },
    {
     "data": {
      "text/plain": [
       "<Figure size 360x360 with 0 Axes>"
      ]
     },
     "metadata": {},
     "output_type": "display_data"
    },
    {
     "data": {
      "text/plain": [
       "<Figure size 360x360 with 0 Axes>"
      ]
     },
     "metadata": {},
     "output_type": "display_data"
    }
   ],
   "source": [
    "f, (ax1, ax2) = plt.subplots(1, 2, sharey=True)\n",
    "#Visualize the heating load output after optimization\n",
    "plt.figure(figsize = (5,5))\n",
    "ax1.plot(range(0,len(x_test)),y_test.iloc[:,0],'o',color='red',label = 'Actual Values')\n",
    "ax1.plot(range(0,len(x_test)),y_pred2_[:,0],'X',color='yellow',label = 'Predicted Values')\n",
    "ax1.set_xlabel('Test Cases')\n",
    "ax1.set_ylabel('Heating Load')\n",
    "ax1.set_title('Heating  Load After Optimization')\n",
    "ax1.legend(loc = 'upper right')\n",
    "\n",
    "#Visualize the cooling load output after optimization\n",
    "plt.figure(figsize = (5,5))\n",
    "ax2.plot(range(0,len(x_test)),y_test.iloc[:,1],'o',color='green',label = 'Actual Values')\n",
    "ax2.plot(range(0,len(x_test)),y_pred2_[:,1],'X',color='blue',label = 'Predicted Values')\n",
    "ax2.set_xlabel('Test Cases')\n",
    "ax2.set_ylabel('Cooling Load')\n",
    "ax2.set_title('Cooling Load After Optimization')\n",
    "ax2.legend(loc = 'upper right')\n",
    "\n",
    "plt.show()"
   ]
  },
  {
   "cell_type": "markdown",
   "id": "f4b1e949",
   "metadata": {},
   "source": [
    "### 3.Extra trees Regressor"
   ]
  },
  {
   "cell_type": "code",
   "execution_count": 35,
   "id": "455e89d9",
   "metadata": {},
   "outputs": [
    {
     "name": "stdout",
     "output_type": "stream",
     "text": [
      "R2 score = 0.976\n"
     ]
    }
   ],
   "source": [
    "#Import extra trees regressor\n",
    "from sklearn.ensemble import ExtraTreesRegressor\n",
    "# Create extra trees model \n",
    "etr_model = ExtraTreesRegressor(random_state=123)\n",
    "# Apply the model\n",
    "etr_model.fit(x_train, y_train)\n",
    "# Predicted value\n",
    "y_pred3 = etr_model.predict(x_test)\n",
    "#R2 score before optimization\n",
    "R2_before_etr= evaluate(etr_model, x_test, y_test)"
   ]
  },
  {
   "cell_type": "code",
   "execution_count": 36,
   "id": "9b8450ee",
   "metadata": {},
   "outputs": [
    {
     "data": {
      "image/png": "[encoded data removed]",
      "text/plain": [
       "<Figure size 432x288 with 2 Axes>"
      ]
     },
     "metadata": {
      "needs_background": "light"
     },
     "output_type": "display_data"
    },
    {
     "data": {
      "text/plain": [
       "<Figure size 360x360 with 0 Axes>"
      ]
     },
     "metadata": {},
     "output_type": "display_data"
    },
    {
     "data": {
      "text/plain": [
       "<Figure size 360x360 with 0 Axes>"
      ]
     },
     "metadata": {},
     "output_type": "display_data"
    }
   ],
   "source": [
    "f, (ax1, ax2) = plt.subplots(1, 2, sharey=True)\n",
    "#Visualize the heating load output before optimization\n",
    "plt.figure(figsize = (5,5))\n",
    "ax1.plot(range(0,len(x_test)),y_test.iloc[:,0],'o',color='red',label = 'Actual Values')\n",
    "ax1.plot(range(0,len(x_test)),y_pred3[:,0],'X',color='yellow',label = 'Predicted Values')\n",
    "ax1.set_xlabel('Test Cases')\n",
    "ax1.set_ylabel('Heating Load')\n",
    "ax1.set_title('Heating  Load Before Optimization')\n",
    "ax1.legend(loc = 'upper right')\n",
    "\n",
    "#Visualize the cooling load output before optimization\n",
    "plt.figure(figsize = (5,5))\n",
    "ax2.plot(range(0,len(x_test)),y_test.iloc[:,1],'o',color='green',label = 'Actual Values')\n",
    "ax2.plot(range(0,len(x_test)),y_pred3[:,1],'X',color='blue',label = 'Predicted Values')\n",
    "ax2.set_xlabel('Test Cases')\n",
    "ax2.set_ylabel('Cooling Load')\n",
    "ax2.set_title('Cooling Load Before Optimization')\n",
    "ax2.legend(loc = 'upper right')\n",
    "\n",
    "plt.show()"
   ]
  },
  {
   "cell_type": "code",
   "execution_count": 37,
   "id": "65513c2f",
   "metadata": {},
   "outputs": [
    {
     "data": {
      "image/png": "[encoded data removed]",
      "text/plain": [
       "<Figure size 432x288 with 4 Axes>"
      ]
     },
     "metadata": {
      "needs_background": "light"
     },
     "output_type": "display_data"
    }
   ],
   "source": [
    "# Finding the best extra trees regressor optimization parameters\n",
    "\n",
    "f, axarr = plt.subplots(2, 2)\n",
    "\n",
    "# Max Depth\n",
    "etr_acc = []\n",
    "etr_depth = range(1,11)\n",
    "for i in etr_depth:\n",
    "    etr = ExtraTreesRegressor(random_state=123, max_depth=i)\n",
    "    etr.fit(x_train, y_train)\n",
    "    etr_acc.append(etr.score(x_test, y_test))\n",
    "axarr[0, 0].plot(etr_depth,etr_acc)\n",
    "axarr[0, 0].set_title('Max Depth')\n",
    "\n",
    "#Min Samples Split\n",
    "etr_acc = []\n",
    "etr_samples_split = range(16,26)\n",
    "for i in etr_samples_split:\n",
    "    etr = ExtraTreesRegressor(random_state=365, min_samples_split=i)\n",
    "    etr.fit(x_train, y_train)\n",
    "    etr_acc.append(etr.score(x_test, y_test))\n",
    "axarr[0, 1].plot(etr_samples_split,etr_acc)\n",
    "axarr[0, 1].set_title('Min Samples Split')\n",
    "\n",
    "#Min Sample Leaf\n",
    "etr_acc = []\n",
    "etr_samples_leaf = range(3,8)\n",
    "for i in etr_samples_leaf:\n",
    "    etr = ExtraTreesRegressor(random_state=365, min_samples_leaf=i)\n",
    "    etr.fit(x_train, y_train)\n",
    "    etr_acc.append(etr.score(x_test, y_test))\n",
    "\n",
    "axarr[1, 0].plot(etr_samples_leaf,etr_acc)\n",
    "axarr[1, 0].set_title('Min Sample Leaf')\n",
    "\n",
    "#N Estimator\n",
    "etr_acc = []\n",
    "etr_estimators = range(40,46)\n",
    "for i in etr_estimators:\n",
    "    etr = ExtraTreesRegressor(random_state=365, n_estimators=i)\n",
    "    etr.fit(x_train, y_train)\n",
    "    etr_acc.append(etr.score(x_test, y_test))\n",
    "\n",
    "axarr[1, 1].plot(etr_estimators,etr_acc)\n",
    "axarr[1, 1].set_title('N Estimator')\n",
    "\n",
    "plt.show()"
   ]
  },
  {
   "cell_type": "code",
   "execution_count": 38,
   "id": "f98e844b",
   "metadata": {},
   "outputs": [
    {
     "data": {
      "text/plain": [
       "GridSearchCV(cv=10, estimator=ExtraTreesRegressor(random_state=123),\n",
       "             param_grid={'max_depth': [7, 8, 9], 'min_samples_leaf': [3, 4, 5],\n",
       "                         'min_samples_split': [17, 18, 19],\n",
       "                         'n_estimators': [41, 42, 43]})"
      ]
     },
     "execution_count": 38,
     "metadata": {},
     "output_type": "execute_result"
    }
   ],
   "source": [
    "# Extra trees regressor optimization parameters\n",
    "from sklearn.model_selection import GridSearchCV\n",
    "parameters = {'max_depth' : [7,8,9],\n",
    "              'min_samples_split': [17,18,19],\n",
    "              'min_samples_leaf' : [3,4,5],\n",
    "              'n_estimators': [41,42,43]}\n",
    "\n",
    "\n",
    "#Create new model using the GridSearch\n",
    "etr_random = GridSearchCV(etr_model, parameters, cv=10)\n",
    "\n",
    "#Apply the model\n",
    "etr_random.fit(x_train, y_train)"
   ]
  },
  {
   "cell_type": "code",
   "execution_count": 39,
   "id": "f34fc6b2",
   "metadata": {},
   "outputs": [
    {
     "data": {
      "text/plain": [
       "{'max_depth': 9,\n",
       " 'min_samples_leaf': 4,\n",
       " 'min_samples_split': 17,\n",
       " 'n_estimators': 43}"
      ]
     },
     "execution_count": 39,
     "metadata": {},
     "output_type": "execute_result"
    }
   ],
   "source": [
    "#View the best parameters\n",
    "etr_random.best_params_"
   ]
  },
  {
   "cell_type": "code",
   "execution_count": 40,
   "id": "c456528d",
   "metadata": {},
   "outputs": [
    {
     "name": "stdout",
     "output_type": "stream",
     "text": [
      "R2 score = 0.978\n"
     ]
    }
   ],
   "source": [
    "# Predicted value\n",
    "y_pred3_ = etr_random.best_estimator_.predict(x_test)\n",
    "#R2 score after optimization\n",
    "best_random_etr = etr_random.best_estimator_\n",
    "R2_after_etr= evaluate(best_random_etr, x_test, y_test)"
   ]
  },
  {
   "cell_type": "code",
   "execution_count": 41,
   "id": "2f3675e8",
   "metadata": {},
   "outputs": [
    {
     "data": {
      "image/png": "[encoded data removed]",
      "text/plain": [
       "<Figure size 432x288 with 2 Axes>"
      ]
     },
     "metadata": {
      "needs_background": "light"
     },
     "output_type": "display_data"
    },
    {
     "data": {
      "text/plain": [
       "<Figure size 360x360 with 0 Axes>"
      ]
     },
     "metadata": {},
     "output_type": "display_data"
    },
    {
     "data": {
      "text/plain": [
       "<Figure size 360x360 with 0 Axes>"
      ]
     },
     "metadata": {},
     "output_type": "display_data"
    }
   ],
   "source": [
    "f, (ax1, ax2) = plt.subplots(1, 2, sharey=True)\n",
    "#Visualize the heating load output after optimization\n",
    "plt.figure(figsize = (5,5))\n",
    "ax1.plot(range(0,len(x_test)),y_test.iloc[:,0],'o',color='red',label = 'Actual Values')\n",
    "ax1.plot(range(0,len(x_test)),y_pred3_[:,0],'X',color='yellow',label = 'Predicted Values')\n",
    "ax1.set_xlabel('Test Cases')\n",
    "ax1.set_ylabel('Heating Load')\n",
    "ax1.set_title('Heating  Load After Optimization')\n",
    "ax1.legend(loc = 'upper right')\n",
    "\n",
    "#Visualize the cooling load output after optimization\n",
    "plt.figure(figsize = (5,5))\n",
    "ax2.plot(range(0,len(x_test)),y_test.iloc[:,1],'o',color='green',label = 'Actual Values')\n",
    "ax2.plot(range(0,len(x_test)),y_pred3_[:,1],'X',color='blue',label = 'Predicted Values')\n",
    "ax2.set_xlabel('Test Cases')\n",
    "ax2.set_ylabel('Cooling Load')\n",
    "ax2.set_title('Cooling Load After Optimization')\n",
    "ax2.legend(loc = 'upper right')\n",
    "\n",
    "plt.show()"
   ]
  },
  {
   "cell_type": "markdown",
   "id": "5bb65a31",
   "metadata": {},
   "source": [
    "## Choosing a model"
   ]
  },
  {
   "cell_type": "markdown",
   "id": "d992726f",
   "metadata": {},
   "source": [
    "Overall, the model perform well to predict the the Heating Load and Cooling Load with R2 score >= 97% even not using hyperparameter optimization\n",
    "\n",
    "R2 score of Decision Tree Regressor model = 97.6%\n",
    "\n",
    "R2 score of Random Forest Regressor model = 97.8%\n",
    "\n",
    "R2 score of Extra Trees Regressor model = 97.6%\n",
    "\n",
    "To increase the F1 score, we have applied hyperparameter tuning using GridSearch and obtain\n",
    "\n",
    "R2 score of Decision Tree Regressor model = 98.0%\n",
    "\n",
    "R2 score of Random Forest Regressor model = 98.2%\n",
    "\n",
    "R2 score of Extra Trees Regressor model = 97.8%\n",
    "\n",
    "We can conclude that Random Forest Regressor is the best model to predict the Heating Load and Cooling Load values with the optimum R2 score of 98.2%"
   ]
  },
  {
   "cell_type": "markdown",
   "id": "10efecfe",
   "metadata": {},
   "source": [
    "## References"
   ]
  },
  {
   "cell_type": "markdown",
   "id": "04034847",
   "metadata": {},
   "source": [
    "1. https://www.researchgate.net/publication/252422007_Effect_of_Building_Height_on_Energy_Consumption_of_Radiator_and_Floor_Heating_Systems\n",
    "2. https://towardsdatascience.com/multi-collinearity-in-regression-fe7a2c1467ea#:~:text=When%20independent%20variables%20are%20highly,in%20the%20data%20or%20model.\n",
    "3. https://jes.ut.ac.ir/article_72074.html?lang=en#:~:text=In%20general%2C%20as%20the%20relative,load%20and%20Co2%20emission%20decrease.\n",
    "4. https://www.kaggle.com/busthon/multiple-regression-on-energy-efficiency/notebook"
   ]
  }
 ],
 "metadata": {
  "kernelspec": {
   "display_name": "Python 3 (ipykernel)",
   "language": "python",
   "name": "python3"
  },
  "language_info": {
   "codemirror_mode": {
    "name": "ipython",
    "version": 3
   },
   "file_extension": ".py",
   "mimetype": "text/x-python",
   "name": "python",
   "nbconvert_exporter": "python",
   "pygments_lexer": "ipython3",
   "version": "3.9.7"
  }
 },
 "nbformat": 4,
 "nbformat_minor": 5
}
